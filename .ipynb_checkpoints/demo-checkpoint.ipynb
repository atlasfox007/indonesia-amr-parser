{
 "cells": [
  {
   "cell_type": "code",
   "execution_count": 3,
   "metadata": {},
   "outputs": [
    {
     "name": "stdout",
     "output_type": "stream",
     "text": [
      "Requirement already satisfied: ipywidgets in c:\\users\\alexa\\anaconda3\\envs\\amr_ta2\\lib\\site-packages (8.1.0)\n",
      "Requirement already satisfied: widgetsnbextension~=4.0.7 in c:\\users\\alexa\\anaconda3\\envs\\amr_ta2\\lib\\site-packages (from ipywidgets) (4.0.8)\n",
      "Requirement already satisfied: traitlets>=4.3.1 in c:\\users\\alexa\\anaconda3\\envs\\amr_ta2\\lib\\site-packages (from ipywidgets) (5.9.0)\n",
      "Requirement already satisfied: jupyterlab-widgets~=3.0.7 in c:\\users\\alexa\\anaconda3\\envs\\amr_ta2\\lib\\site-packages (from ipywidgets) (3.0.8)\n",
      "Requirement already satisfied: ipython>=6.1.0 in c:\\users\\alexa\\anaconda3\\envs\\amr_ta2\\lib\\site-packages (from ipywidgets) (7.33.0)\n",
      "Requirement already satisfied: comm>=0.1.3 in c:\\users\\alexa\\anaconda3\\envs\\amr_ta2\\lib\\site-packages (from ipywidgets) (0.1.4)\n",
      "Requirement already satisfied: prompt-toolkit!=3.0.0,!=3.0.1,<3.1.0,>=2.0.0 in c:\\users\\alexa\\anaconda3\\envs\\amr_ta2\\lib\\site-packages (from ipython>=6.1.0->ipywidgets) (3.0.39)\n",
      "Requirement already satisfied: pickleshare in c:\\users\\alexa\\anaconda3\\envs\\amr_ta2\\lib\\site-packages (from ipython>=6.1.0->ipywidgets) (0.7.5)\n",
      "Requirement already satisfied: matplotlib-inline in c:\\users\\alexa\\anaconda3\\envs\\amr_ta2\\lib\\site-packages (from ipython>=6.1.0->ipywidgets) (0.1.6)\n",
      "Requirement already satisfied: setuptools>=18.5 in c:\\users\\alexa\\anaconda3\\envs\\amr_ta2\\lib\\site-packages (from ipython>=6.1.0->ipywidgets) (65.6.3)\n",
      "Requirement already satisfied: decorator in c:\\users\\alexa\\anaconda3\\envs\\amr_ta2\\lib\\site-packages (from ipython>=6.1.0->ipywidgets) (5.1.1)\n",
      "Requirement already satisfied: jedi>=0.16 in c:\\users\\alexa\\anaconda3\\envs\\amr_ta2\\lib\\site-packages (from ipython>=6.1.0->ipywidgets) (0.19.0)\n",
      "Requirement already satisfied: backcall in c:\\users\\alexa\\anaconda3\\envs\\amr_ta2\\lib\\site-packages (from ipython>=6.1.0->ipywidgets) (0.2.0)\n",
      "Requirement already satisfied: colorama in c:\\users\\alexa\\anaconda3\\envs\\amr_ta2\\lib\\site-packages (from ipython>=6.1.0->ipywidgets) (0.4.6)\n",
      "Requirement already satisfied: pygments in c:\\users\\alexa\\anaconda3\\envs\\amr_ta2\\lib\\site-packages (from ipython>=6.1.0->ipywidgets) (2.16.1)\n",
      "Requirement already satisfied: parso<0.9.0,>=0.8.3 in c:\\users\\alexa\\anaconda3\\envs\\amr_ta2\\lib\\site-packages (from jedi>=0.16->ipython>=6.1.0->ipywidgets) (0.8.3)\n",
      "Requirement already satisfied: wcwidth in c:\\users\\alexa\\anaconda3\\envs\\amr_ta2\\lib\\site-packages (from prompt-toolkit!=3.0.0,!=3.0.1,<3.1.0,>=2.0.0->ipython>=6.1.0->ipywidgets) (0.2.6)\n"
     ]
    },
    {
     "name": "stderr",
     "output_type": "stream",
     "text": [
      "Enabling notebook extension jupyter-js-widgets/extension...\n",
      "      - Validating: ok\n"
     ]
    }
   ],
   "source": [
    "!pip install ipywidgets\n",
    "!jupyter nbextension enable --py widgetsnbextension"
   ]
  },
  {
   "cell_type": "code",
   "execution_count": 4,
   "metadata": {},
   "outputs": [
    {
     "name": "stdout",
     "output_type": "stream",
     "text": [
      "  0%|          | 0/2648 [00:00<?, ?it/s]\n",
      "Saving file to  ../data/AMR/amr_gold_indonesia\\amr_simple_amany_v2_gold.txt.features\n"
     ]
    },
    {
     "name": "stderr",
     "output_type": "stream",
     "text": [
      "Asking to truncate to max_length but no maximum length is provided and the model has no predefined maximum length. Default to no truncation.\n",
      "c:\\Users\\alexa\\anaconda3\\envs\\amr_ta2\\lib\\site-packages\\transformers\\pipelines\\base.py:998: UserWarning: You seem to be using the pipelines sequentially on GPU. In order to maximize efficiency please use a dataset\n",
      "  UserWarning,\n"
     ]
    }
   ],
   "source": [
    "# Melakukan anotasi fitur pada file\n",
    "!python gsii_parser\\scripts\\30_Model_Parse_GSII\\Annotate_File.py"
   ]
  }
 ],
 "metadata": {
  "kernelspec": {
   "display_name": "Python 3 (ipykernel)",
   "language": "python",
   "name": "python3"
  },
  "language_info": {
   "codemirror_mode": {
    "name": "ipython",
    "version": 3
   },
   "file_extension": ".py",
   "mimetype": "text/x-python",
   "name": "python",
   "nbconvert_exporter": "python",
   "pygments_lexer": "ipython3",
   "version": "3.9.13"
  }
 },
 "nbformat": 4,
 "nbformat_minor": 2
}
